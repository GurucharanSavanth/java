{
  "nbformat": 4,
  "nbformat_minor": 0,
  "metadata": {
    "colab": {
      "provenance": [],
      "gpuType": "T4"
    },
    "kernelspec": {
      "name": "python3",
      "display_name": "Python 3"
    },
    "language_info": {
      "name": "python"
    },
    "accelerator": "GPU"
  },
  "cells": [
    {
      "cell_type": "markdown",
      "source": [
        "### **use this /n\n",
        "modify the code using this\n",
        "from keras.datasets import boston_housing\n",
        "(train_data, train_targets), (test_data, test_targets) = boston_housing.load_data()**"
      ],
      "metadata": {
        "id": "YYrUqUbOflfE"
      }
    },
    {
      "cell_type": "code",
      "source": [
        "import numpy as np\n",
        "import pandas as pd\n",
        "from sklearn.datasets import fetch_california_housing\n",
        "from sklearn.model_selection import train_test_split\n",
        "from sklearn.preprocessing import StandardScaler\n",
        "import tensorflow as tf\n",
        "from tensorflow.keras.models import Sequential\n",
        "from tensorflow.keras.layers import Dense\n",
        "from tensorflow.keras.optimizers import Adam\n",
        "\n",
        "# Load the dataset\n",
        "housing = fetch_california_housing()\n",
        "X, y = housing.data, housing.target\n",
        "\n",
        "# Split the dataset into training and testing sets\n",
        "X_train, X_test, y_train, y_test = train_test_split(X, y, test_size=0.2, random_state=42)\n",
        "\n",
        "# Normalize the data\n",
        "scaler = StandardScaler()\n",
        "X_train_scaled = scaler.fit_transform(X_train)\n",
        "X_test_scaled = scaler.transform(X_test)\n",
        "\n",
        "# Build the ANN model\n",
        "model = Sequential([\n",
        "    Dense(128, activation='relu', input_shape=X_train_scaled.shape[1:]),\n",
        "    Dense(64, activation='relu'),\n",
        "    Dense(1)\n",
        "])\n",
        "\n",
        "# Compile the model\n",
        "model.compile(optimizer=Adam(learning_rate=0.001), loss='mean_squared_error')\n",
        "\n",
        "# Train the model\n",
        "model.fit(X_train_scaled, y_train, epochs=10, validation_split=0.1)\n",
        "\n",
        "# Evaluate the model\n",
        "mse_test = model.evaluate(X_test_scaled, y_test)\n",
        "print(\"Test MSE:\", mse_test)\n"
      ],
      "metadata": {
        "colab": {
          "base_uri": "https://localhost:8080/"
        },
        "id": "5YcMWeyTfqET",
        "outputId": "1e413dd6-ae3c-4f01-f3a8-c5d2335dfdfc"
      },
      "execution_count": null,
      "outputs": [
        {
          "output_type": "stream",
          "name": "stdout",
          "text": [
            "Epoch 1/10\n",
            "465/465 [==============================] - 4s 4ms/step - loss: 0.7747 - val_loss: 0.4465\n",
            "Epoch 2/10\n",
            "465/465 [==============================] - 2s 3ms/step - loss: 0.3812 - val_loss: 0.3994\n",
            "Epoch 3/10\n",
            "465/465 [==============================] - 2s 4ms/step - loss: 0.3586 - val_loss: 0.3709\n",
            "Epoch 4/10\n",
            "465/465 [==============================] - 2s 4ms/step - loss: 0.3308 - val_loss: 0.3499\n",
            "Epoch 5/10\n",
            "395/465 [========================>.....] - ETA: 0s - loss: 0.3234"
          ]
        }
      ]
    },
    {
      "cell_type": "code",
      "source": [],
      "metadata": {
        "id": "jWHjcK7YgxUS"
      },
      "execution_count": null,
      "outputs": []
    }
  ]
}